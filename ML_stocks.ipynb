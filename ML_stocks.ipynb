{
  "cells": [
    {
      "cell_type": "code",
      "execution_count": 1,
      "metadata": {
        "id": "4PMcUWX8a08k"
      },
      "outputs": [],
      "source": [
        "import pandas as pd\n",
        "from sklearn.model_selection import train_test_split\n",
        "from sklearn.ensemble import RandomForestRegressor\n",
        "from sklearn.metrics import mean_absolute_error, mean_squared_error\n",
        "import pickle"
      ]
    },
    {
      "cell_type": "code",
      "execution_count": 4,
      "metadata": {
        "id": "hcj5Bswda9wk"
      },
      "outputs": [],
      "source": [
        "data = pd.read_csv('/content/export (5).csv')"
      ]
    },
    {
      "cell_type": "code",
      "execution_count": 5,
      "metadata": {
        "colab": {
          "base_uri": "https://localhost:8080/",
          "height": 547
        },
        "id": "JRJOG7ldbN_I",
        "outputId": "256ea8bb-ffa4-49f8-94bc-2b36e78f7354"
      },
      "outputs": [
        {
          "output_type": "execute_result",
          "data": {
            "text/plain": [
              "  Symbol                            Security Name        Date       Open  \\\n",
              "0      A  Agilent Technologies, Inc. Common Stock  1999-11-18  32.546494   \n",
              "1      A  Agilent Technologies, Inc. Common Stock  1999-11-19  30.713520   \n",
              "2      A  Agilent Technologies, Inc. Common Stock  1999-11-22  29.551144   \n",
              "3      A  Agilent Technologies, Inc. Common Stock  1999-11-23  30.400572   \n",
              "4      A  Agilent Technologies, Inc. Common Stock  1999-11-24  28.701717   \n",
              "\n",
              "        High        Low      Close  Adj Close    Volume ETF  vol_moving_avg  \\\n",
              "0  35.765381  28.612303  31.473534  27.068665  62546300   N             NaN   \n",
              "1  30.758226  28.478184  28.880543  24.838577  15234100   N      62546300.0   \n",
              "2  31.473534  28.657009  31.473534  27.068665   6577800   N      38890200.0   \n",
              "3  31.205294  28.612303  28.612303  24.607880   5975600   N      28119400.0   \n",
              "4  29.998211  28.612303  29.372318  25.261524   4843200   N      22583450.0   \n",
              "\n",
              "   adj_close_rolling_med  \n",
              "0                    NaN  \n",
              "1              27.068665  \n",
              "2              24.838577  \n",
              "3              27.068665  \n",
              "4              24.838577  "
            ],
            "text/html": [
              "\n",
              "  <div id=\"df-5efaedaa-66cb-42e3-8cb2-a2dac249b486\">\n",
              "    <div class=\"colab-df-container\">\n",
              "      <div>\n",
              "<style scoped>\n",
              "    .dataframe tbody tr th:only-of-type {\n",
              "        vertical-align: middle;\n",
              "    }\n",
              "\n",
              "    .dataframe tbody tr th {\n",
              "        vertical-align: top;\n",
              "    }\n",
              "\n",
              "    .dataframe thead th {\n",
              "        text-align: right;\n",
              "    }\n",
              "</style>\n",
              "<table border=\"1\" class=\"dataframe\">\n",
              "  <thead>\n",
              "    <tr style=\"text-align: right;\">\n",
              "      <th></th>\n",
              "      <th>Symbol</th>\n",
              "      <th>Security Name</th>\n",
              "      <th>Date</th>\n",
              "      <th>Open</th>\n",
              "      <th>High</th>\n",
              "      <th>Low</th>\n",
              "      <th>Close</th>\n",
              "      <th>Adj Close</th>\n",
              "      <th>Volume</th>\n",
              "      <th>ETF</th>\n",
              "      <th>vol_moving_avg</th>\n",
              "      <th>adj_close_rolling_med</th>\n",
              "    </tr>\n",
              "  </thead>\n",
              "  <tbody>\n",
              "    <tr>\n",
              "      <th>0</th>\n",
              "      <td>A</td>\n",
              "      <td>Agilent Technologies, Inc. Common Stock</td>\n",
              "      <td>1999-11-18</td>\n",
              "      <td>32.546494</td>\n",
              "      <td>35.765381</td>\n",
              "      <td>28.612303</td>\n",
              "      <td>31.473534</td>\n",
              "      <td>27.068665</td>\n",
              "      <td>62546300</td>\n",
              "      <td>N</td>\n",
              "      <td>NaN</td>\n",
              "      <td>NaN</td>\n",
              "    </tr>\n",
              "    <tr>\n",
              "      <th>1</th>\n",
              "      <td>A</td>\n",
              "      <td>Agilent Technologies, Inc. Common Stock</td>\n",
              "      <td>1999-11-19</td>\n",
              "      <td>30.713520</td>\n",
              "      <td>30.758226</td>\n",
              "      <td>28.478184</td>\n",
              "      <td>28.880543</td>\n",
              "      <td>24.838577</td>\n",
              "      <td>15234100</td>\n",
              "      <td>N</td>\n",
              "      <td>62546300.0</td>\n",
              "      <td>27.068665</td>\n",
              "    </tr>\n",
              "    <tr>\n",
              "      <th>2</th>\n",
              "      <td>A</td>\n",
              "      <td>Agilent Technologies, Inc. Common Stock</td>\n",
              "      <td>1999-11-22</td>\n",
              "      <td>29.551144</td>\n",
              "      <td>31.473534</td>\n",
              "      <td>28.657009</td>\n",
              "      <td>31.473534</td>\n",
              "      <td>27.068665</td>\n",
              "      <td>6577800</td>\n",
              "      <td>N</td>\n",
              "      <td>38890200.0</td>\n",
              "      <td>24.838577</td>\n",
              "    </tr>\n",
              "    <tr>\n",
              "      <th>3</th>\n",
              "      <td>A</td>\n",
              "      <td>Agilent Technologies, Inc. Common Stock</td>\n",
              "      <td>1999-11-23</td>\n",
              "      <td>30.400572</td>\n",
              "      <td>31.205294</td>\n",
              "      <td>28.612303</td>\n",
              "      <td>28.612303</td>\n",
              "      <td>24.607880</td>\n",
              "      <td>5975600</td>\n",
              "      <td>N</td>\n",
              "      <td>28119400.0</td>\n",
              "      <td>27.068665</td>\n",
              "    </tr>\n",
              "    <tr>\n",
              "      <th>4</th>\n",
              "      <td>A</td>\n",
              "      <td>Agilent Technologies, Inc. Common Stock</td>\n",
              "      <td>1999-11-24</td>\n",
              "      <td>28.701717</td>\n",
              "      <td>29.998211</td>\n",
              "      <td>28.612303</td>\n",
              "      <td>29.372318</td>\n",
              "      <td>25.261524</td>\n",
              "      <td>4843200</td>\n",
              "      <td>N</td>\n",
              "      <td>22583450.0</td>\n",
              "      <td>24.838577</td>\n",
              "    </tr>\n",
              "  </tbody>\n",
              "</table>\n",
              "</div>\n",
              "      <button class=\"colab-df-convert\" onclick=\"convertToInteractive('df-5efaedaa-66cb-42e3-8cb2-a2dac249b486')\"\n",
              "              title=\"Convert this dataframe to an interactive table.\"\n",
              "              style=\"display:none;\">\n",
              "        \n",
              "  <svg xmlns=\"http://www.w3.org/2000/svg\" height=\"24px\"viewBox=\"0 0 24 24\"\n",
              "       width=\"24px\">\n",
              "    <path d=\"M0 0h24v24H0V0z\" fill=\"none\"/>\n",
              "    <path d=\"M18.56 5.44l.94 2.06.94-2.06 2.06-.94-2.06-.94-.94-2.06-.94 2.06-2.06.94zm-11 1L8.5 8.5l.94-2.06 2.06-.94-2.06-.94L8.5 2.5l-.94 2.06-2.06.94zm10 10l.94 2.06.94-2.06 2.06-.94-2.06-.94-.94-2.06-.94 2.06-2.06.94z\"/><path d=\"M17.41 7.96l-1.37-1.37c-.4-.4-.92-.59-1.43-.59-.52 0-1.04.2-1.43.59L10.3 9.45l-7.72 7.72c-.78.78-.78 2.05 0 2.83L4 21.41c.39.39.9.59 1.41.59.51 0 1.02-.2 1.41-.59l7.78-7.78 2.81-2.81c.8-.78.8-2.07 0-2.86zM5.41 20L4 18.59l7.72-7.72 1.47 1.35L5.41 20z\"/>\n",
              "  </svg>\n",
              "      </button>\n",
              "      \n",
              "  <style>\n",
              "    .colab-df-container {\n",
              "      display:flex;\n",
              "      flex-wrap:wrap;\n",
              "      gap: 12px;\n",
              "    }\n",
              "\n",
              "    .colab-df-convert {\n",
              "      background-color: #E8F0FE;\n",
              "      border: none;\n",
              "      border-radius: 50%;\n",
              "      cursor: pointer;\n",
              "      display: none;\n",
              "      fill: #1967D2;\n",
              "      height: 32px;\n",
              "      padding: 0 0 0 0;\n",
              "      width: 32px;\n",
              "    }\n",
              "\n",
              "    .colab-df-convert:hover {\n",
              "      background-color: #E2EBFA;\n",
              "      box-shadow: 0px 1px 2px rgba(60, 64, 67, 0.3), 0px 1px 3px 1px rgba(60, 64, 67, 0.15);\n",
              "      fill: #174EA6;\n",
              "    }\n",
              "\n",
              "    [theme=dark] .colab-df-convert {\n",
              "      background-color: #3B4455;\n",
              "      fill: #D2E3FC;\n",
              "    }\n",
              "\n",
              "    [theme=dark] .colab-df-convert:hover {\n",
              "      background-color: #434B5C;\n",
              "      box-shadow: 0px 1px 3px 1px rgba(0, 0, 0, 0.15);\n",
              "      filter: drop-shadow(0px 1px 2px rgba(0, 0, 0, 0.3));\n",
              "      fill: #FFFFFF;\n",
              "    }\n",
              "  </style>\n",
              "\n",
              "      <script>\n",
              "        const buttonEl =\n",
              "          document.querySelector('#df-5efaedaa-66cb-42e3-8cb2-a2dac249b486 button.colab-df-convert');\n",
              "        buttonEl.style.display =\n",
              "          google.colab.kernel.accessAllowed ? 'block' : 'none';\n",
              "\n",
              "        async function convertToInteractive(key) {\n",
              "          const element = document.querySelector('#df-5efaedaa-66cb-42e3-8cb2-a2dac249b486');\n",
              "          const dataTable =\n",
              "            await google.colab.kernel.invokeFunction('convertToInteractive',\n",
              "                                                     [key], {});\n",
              "          if (!dataTable) return;\n",
              "\n",
              "          const docLinkHtml = 'Like what you see? Visit the ' +\n",
              "            '<a target=\"_blank\" href=https://colab.research.google.com/notebooks/data_table.ipynb>data table notebook</a>'\n",
              "            + ' to learn more about interactive tables.';\n",
              "          element.innerHTML = '';\n",
              "          dataTable['output_type'] = 'display_data';\n",
              "          await google.colab.output.renderOutput(dataTable, element);\n",
              "          const docLink = document.createElement('div');\n",
              "          docLink.innerHTML = docLinkHtml;\n",
              "          element.appendChild(docLink);\n",
              "        }\n",
              "      </script>\n",
              "    </div>\n",
              "  </div>\n",
              "  "
            ]
          },
          "metadata": {},
          "execution_count": 5
        }
      ],
      "source": [
        "data.head()"
      ]
    },
    {
      "cell_type": "code",
      "execution_count": 6,
      "metadata": {
        "id": "8nF8q4mNcP7R"
      },
      "outputs": [],
      "source": [
        "data['Date'] = pd.to_datetime(data['Date'])\n",
        "data.set_index('Date', inplace=True)\n",
        "\n",
        "# Remove rows with NaN values\n",
        "data.dropna(inplace=True)"
      ]
    },
    {
      "cell_type": "code",
      "execution_count": 7,
      "metadata": {
        "id": "amWrh4dKcRYf"
      },
      "outputs": [],
      "source": [
        "features = ['vol_moving_avg', 'adj_close_rolling_med']\n",
        "target = 'Volume'\n",
        "\n",
        "X = data[features]\n",
        "y = data[target]\n",
        "\n",
        "# Split data into train and test sets\n",
        "X_train, X_test, y_train, y_test = train_test_split(X, y, test_size=0.2, random_state=42)\n",
        "\n",
        "# Create a RandomForestRegressor model\n",
        "model = RandomForestRegressor(n_estimators=100, random_state=42)\n",
        "\n",
        "# Train the model\n",
        "model.fit(X_train, y_train)\n",
        "\n",
        "# Make predictions on test data\n",
        "y_pred = model.predict(X_test)\n",
        "\n",
        "# Calculate the Mean Absolute Error and Mean Squared Error\n",
        "mae = mean_absolute_error(y_test, y_pred)\n",
        "mse = mean_squared_error(y_test, y_pred)"
      ]
    },
    {
      "cell_type": "code",
      "execution_count": null,
      "metadata": {
        "colab": {
          "base_uri": "https://localhost:8080/"
        },
        "id": "UKpG112Rw2mq",
        "outputId": "6aa8410a-3f3e-4c21-8d91-f9b802ca346d"
      },
      "outputs": [
        {
          "name": "stdout",
          "output_type": "stream",
          "text": [
            "694944.4669523808\n",
            "1801149091610.7385\n",
            "R-squared value: 0.6444022038509744\n"
          ]
        }
      ],
      "source": [
        "from sklearn.metrics import r2_score\n",
        "print(mae)\n",
        "print(mse)\n",
        "r2 = r2_score(y_test, y_pred)\n",
        "\n",
        "print('R-squared value:', r2)"
      ]
    },
    {
      "cell_type": "code",
      "execution_count": null,
      "metadata": {
        "id": "xcNz-rldbavL"
      },
      "outputs": [],
      "source": [
        "filename = 'finalized_model.sav'\n",
        "pickle.dump(model, open(filename, 'wb'))"
      ]
    }
  ],
  "metadata": {
    "colab": {
      "provenance": []
    },
    "kernelspec": {
      "display_name": "Python 3",
      "name": "python3"
    },
    "language_info": {
      "name": "python"
    }
  },
  "nbformat": 4,
  "nbformat_minor": 0
}